{
 "cells": [
  {
   "cell_type": "code",
   "execution_count": 1,
   "metadata": {},
   "outputs": [
    {
     "name": "stdout",
     "output_type": "stream",
     "text": [
      "AUC HO: 0.8977999999999999\n",
      "AUC MCMC: 0.9219\n"
     ]
    },
    {
     "data": {
      "image/png": "[encoded data removed]",
      "text/plain": [
       "<Figure size 720x720 with 1 Axes>"
      ]
     },
     "metadata": {
      "needs_background": "light"
     },
     "output_type": "display_data"
    }
   ],
   "source": [
    "%matplotlib inline\n",
    "\n",
    "import pickle\n",
    "from sklearn.metrics import roc_auc_score as ras\n",
    "from sklearn.metrics import roc_curve as rc\n",
    "import scipy.ndimage as snd\n",
    "import matplotlib.pyplot as plt\n",
    "import numpy as np\n",
    "from mcmc_lumpy import *\n",
    "\n",
    "# load mcmc results\n",
    "with open('ratios.pkl','rb') as f:\n",
    "    lr, phi_set = pickle.load(f)\n",
    "\n",
    "# Get the imagess for each of the phi sets\n",
    "g = []\n",
    "backgrounds = np.zeros((64,64,200))\n",
    "for i,phi in enumerate(phi_set):\n",
    "    g.append(phi.grab_g().ravel())\n",
    "    theta = phi.grab_chain(real=False)[0]\n",
    "    b, _, _ = create_lumpy_background(pos=theta)\n",
    "    backgrounds[:,:,i] = b\n",
    "\n",
    "# Calculate HO results for each background\n",
    "# with signal 0.1 and noise 0.01\n",
    "ho = []\n",
    "obj_dim1 = [28, 33]\n",
    "obj_dim2 = [29, 32]\n",
    "signal = np.zeros((64, 64))\n",
    "signal[obj_dim1[0]:obj_dim1[1], obj_dim2[0]:obj_dim2[1]] = 0.1\n",
    "signal[obj_dim2[0]:obj_dim2[1], obj_dim1[0]:obj_dim1[1]] = 0.1\n",
    "signal = snd.filters.gaussian_filter(signal, 2).ravel()\n",
    "\n",
    "# Calculate covariance matrix\n",
    "N_inv = np.eye(64**2)*(1/0.01)\n",
    "W = backgrounds - np.repeat(np.mean(backgrounds, axis=2)[:, :, np.newaxis], 100*2, axis=2)\n",
    "W = np.reshape(W, (64**2, -1))\n",
    "NsNs = np.linalg.inv(np.eye(2*100)+np.matmul(W.transpose(), np.matmul(N_inv, W)))\n",
    "K_inv = N_inv - np.matmul(N_inv, np.matmul(W, np.matmul(NsNs, np.matmul(W.transpose(), N_inv))))\n",
    "for img in g:\n",
    "    ho.append(np.dot(signal, np.matmul(K_inv, img)))\n",
    "print('AUC HO: {}'.format(ras(100*[1,0],ho)))\n",
    "print('AUC MCMC: {}'.format(ras(100*[1,0],lr)))\n",
    "fpr_ho, tpr_ho, _ = rc(100*[1,0], ho)\n",
    "fpr_mcmc, tpr_mcmc, _ = rc(100*[1,0], lr)\n",
    "plt.figure(figsize=(10,10))\n",
    "plt.plot(fpr_ho, tpr_ho, label='Hotelling Observer')\n",
    "plt.plot(fpr_mcmc, tpr_mcmc, label='MCMC')\n",
    "plt.xlabel('False Positive Rate')\n",
    "plt.ylabel('True Positive Rate')\n",
    "plt.legend()\n",
    "plt.show()"
   ]
  }
 ],
 "metadata": {
  "kernelspec": {
   "display_name": "Python 3",
   "language": "python",
   "name": "python3"
  },
  "language_info": {
   "codemirror_mode": {
    "name": "ipython",
    "version": 3
   },
   "file_extension": ".py",
   "mimetype": "text/x-python",
   "name": "python",
   "nbconvert_exporter": "python",
   "pygments_lexer": "ipython3",
   "version": "3.7.1"
  }
 },
 "nbformat": 4,
 "nbformat_minor": 2
}
