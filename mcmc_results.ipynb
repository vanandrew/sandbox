{
 "cells": [
  {
   "cell_type": "code",
   "execution_count": 1,
   "metadata": {},
   "outputs": [],
   "source": [
    "%matplotlib inline\n",
    "\n",
    "import pickle\n",
    "from sklearn.metrics import roc_auc_score as ras\n",
    "from sklearn.metrics import roc_curve as rc\n",
    "import scipy.ndimage as snd\n",
    "import matplotlib.pyplot as plt\n",
    "import numpy as np\n",
    "import tensorflow as tf\n",
    "from train_cnn import create_tf_graph\n",
    "from mcmc_lumpy import *\n",
    "from lumpybg import *\n",
    "\n",
    "# import training data and define signal difference between the 2 classes\n",
    "_, _, _, _, tmax, tmin = data_import('dataset20.mat',48000)\n",
    "obj_dim1 = [28, 33] # Define signal position dim1\n",
    "obj_dim2 = [29, 32] # Define signal position dim2\n",
    "signal_intensity = 0.1\n",
    "gaussian_sigma = 2\n",
    "image_size = 64\n",
    "signal = np.zeros((image_size, image_size))\n",
    "signal[obj_dim1[0]:obj_dim1[1], obj_dim2[0]:obj_dim2[1]] = signal_intensity\n",
    "signal[obj_dim2[0]:obj_dim2[1], obj_dim1[0]:obj_dim1[1]] = signal_intensity\n",
    "signal = snd.filters.gaussian_filter(signal, gaussian_sigma)"
   ]
  },
  {
   "cell_type": "code",
   "execution_count": 2,
   "metadata": {},
   "outputs": [],
   "source": [
    "# load mcmc results\n",
    "with open('ratios20.pkl','rb') as f:\n",
    "    lr, phi_set = pickle.load(f)\n",
    "\n",
    "# Get the images for each of the phi sets\n",
    "g = []\n",
    "backgrounds = np.zeros((64,64,200))\n",
    "for i,phi in enumerate(phi_set):\n",
    "    g.append(phi.grab_g().ravel())\n",
    "    theta = phi.grab_chain(real=False)[0]\n",
    "    b, _, _ = create_lumpy_background(pos=theta)\n",
    "    backgrounds[:,:,i] = b"
   ]
  },
  {
   "cell_type": "code",
   "execution_count": 3,
   "metadata": {},
   "outputs": [
    {
     "name": "stdout",
     "output_type": "stream",
     "text": [
      "INFO:tensorflow:Restoring parameters from ./saved_models_lb2/ho_cnn_model.ckpt-88280\n",
      "AUC HO: 0.8548\n",
      "AUC MCMC: 0.8529\n",
      "AUC CNN: 0.8891\n"
     ]
    },
    {
     "data": {
      "image/png": "[encoded data removed]",
      "text/plain": [
       "<Figure size 720x720 with 1 Axes>"
      ]
     },
     "metadata": {
      "needs_background": "light"
     },
     "output_type": "display_data"
    }
   ],
   "source": [
    "# Calculate covariance matrix\n",
    "N_inv = np.eye(64**2)*(1/0.01)\n",
    "W = backgrounds - np.repeat(np.mean(backgrounds, axis=2)[:, :, np.newaxis], 100*2, axis=2)\n",
    "W = np.reshape(W, (64**2, -1))\n",
    "NsNs = np.linalg.inv(np.eye(2*100)+np.matmul(W.transpose(), np.matmul(N_inv, W)))\n",
    "K_inv = N_inv - np.matmul(N_inv, np.matmul(W, np.matmul(NsNs, np.matmul(W.transpose(), N_inv))))\n",
    "del N_inv\n",
    "del W\n",
    "del NsNs\n",
    "\n",
    "# Calculate the HO test statistics\n",
    "ho = []\n",
    "for img in g:\n",
    "    ho.append(np.dot(signal.ravel(), np.matmul(K_inv, img)))\n",
    "del K_inv\n",
    "\n",
    "# add CNN results\n",
    "folder_name = 'saved_models_lb2'\n",
    "model_number = 88280\n",
    "data_array = (np.array(g).reshape(-1, 64, 64, 1) - tmin)/(tmax - tmin)\n",
    "net_input, _, readout, _, _ = create_tf_graph()\n",
    "sess = tf.Session()\n",
    "tf.train.Saver().restore(sess, './{}/ho_cnn_model.ckpt-{}'.format(folder_name, model_number))\n",
    "cnn = sess.run(readout, feed_dict={net_input: data_array})\n",
    "    \n",
    "# Plot the results\n",
    "print('AUC HO: {}'.format(ras(100*[1,0],ho)))\n",
    "print('AUC MCMC: {}'.format(ras(100*[1,0],lr)))\n",
    "print('AUC CNN: {}'.format(ras(100*[1,0],cnn)))\n",
    "fpr_ho, tpr_ho, _ = rc(100*[1,0], ho)\n",
    "fpr_mcmc, tpr_mcmc, _ = rc(100*[1,0], lr)\n",
    "fpr_cnn, tpr_cnn, _ = rc(100*[1,0], cnn)\n",
    "plt.figure(figsize=(10,10))\n",
    "plt.plot(fpr_ho, tpr_ho, label='Hotelling Observer')\n",
    "plt.plot(fpr_mcmc, tpr_mcmc, label='MCMC')\n",
    "plt.plot(fpr_cnn, tpr_cnn, label='CNN')\n",
    "plt.xlabel('False Positive Rate')\n",
    "plt.ylabel('True Positive Rate')\n",
    "plt.legend()\n",
    "plt.show()"
   ]
  },
  {
   "cell_type": "code",
   "execution_count": null,
   "metadata": {},
   "outputs": [],
   "source": []
  }
 ],
 "metadata": {
  "kernelspec": {
   "display_name": "Python 3",
   "language": "python",
   "name": "python3"
  },
  "language_info": {
   "codemirror_mode": {
    "name": "ipython",
    "version": 3
   },
   "file_extension": ".py",
   "mimetype": "text/x-python",
   "name": "python",
   "nbconvert_exporter": "python",
   "pygments_lexer": "ipython3",
   "version": "3.7.1"
  }
 },
 "nbformat": 4,
 "nbformat_minor": 2
}
