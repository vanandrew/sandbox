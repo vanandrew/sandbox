{
 "cells": [
  {
   "cell_type": "code",
   "execution_count": 1,
   "metadata": {},
   "outputs": [
    {
     "name": "stdout",
     "output_type": "stream",
     "text": [
      "INFO:tensorflow:Restoring parameters from ./saved_models_lb/ho_cnn_model.ckpt-40590\n",
      "AUC HO: 0.8980999999999999\n",
      "AUC MCMC: 0.9219\n",
      "AUC CNN: 0.9258\n"
     ]
    },
    {
     "data": {
      "image/png": "[encoded data removed]",
      "text/plain": [
       "<Figure size 720x720 with 1 Axes>"
      ]
     },
     "metadata": {
      "needs_background": "light"
     },
     "output_type": "display_data"
    }
   ],
   "source": [
    "%matplotlib inline\n",
    "\n",
    "import pickle\n",
    "from sklearn.metrics import roc_auc_score as ras\n",
    "from sklearn.metrics import roc_curve as rc\n",
    "import scipy.ndimage as snd\n",
    "import matplotlib.pyplot as plt\n",
    "import numpy as np\n",
    "import tensorflow as tf\n",
    "from train_cnn import create_tf_graph\n",
    "from mcmc_lumpy import *\n",
    "from lumpybg import *\n",
    "\n",
    "# load mcmc results\n",
    "with open('ratios.pkl','rb') as f:\n",
    "    lr, phi_set = pickle.load(f)\n",
    "\n",
    "# Get the images for each of the phi sets\n",
    "g = []\n",
    "backgrounds = np.zeros((64,64,200))\n",
    "for i,phi in enumerate(phi_set):\n",
    "    g.append(phi.grab_g().ravel())\n",
    "    theta = phi.grab_chain(real=False)[0]\n",
    "    b, _, _ = create_lumpy_background(pos=theta)\n",
    "    backgrounds[:,:,i] = b\n",
    "\n",
    "# import training data and get the average difference between the 2 classes\n",
    "train_set, _, train_labels, _, tmax, tmin = data_import('dataset.mat',48000)\n",
    "sp = np.mean(train_set[train_labels == 1,:,:,:],axis=0).ravel()\n",
    "sa = np.mean(train_set[train_labels == 0,:,:,:],axis=0).ravel()\n",
    "avg_diff = sp - sa\n",
    "del train_set\n",
    "del train_labels\n",
    "\n",
    "# Calculate covariance matrix\n",
    "N_inv = np.eye(64**2)*(1/0.01)\n",
    "W = backgrounds - np.repeat(np.mean(backgrounds, axis=2)[:, :, np.newaxis], 100*2, axis=2)\n",
    "W = np.reshape(W, (64**2, -1))\n",
    "NsNs = np.linalg.inv(np.eye(2*100)+np.matmul(W.transpose(), np.matmul(N_inv, W)))\n",
    "K_inv = N_inv - np.matmul(N_inv, np.matmul(W, np.matmul(NsNs, np.matmul(W.transpose(), N_inv))))\n",
    "del N_inv\n",
    "del W\n",
    "del NsNs\n",
    "\n",
    "# Calculate the HO test statistics\n",
    "ho = []\n",
    "for img in g:\n",
    "    ho.append(np.dot(avg_diff, np.matmul(K_inv, img)))\n",
    "del K_inv\n",
    "\n",
    "# add CNN results\n",
    "folder_name = 'saved_models_lb'\n",
    "model_number = 40590\n",
    "data_array = (np.array(g).reshape(-1, 64, 64, 1) - tmin)/(tmax - tmin)\n",
    "net_input, _, readout, _, _ = create_tf_graph()\n",
    "sess = tf.Session()\n",
    "tf.train.Saver().restore(sess, './{}/ho_cnn_model.ckpt-{}'.format(folder_name, model_number))\n",
    "cnn = sess.run(readout, feed_dict={net_input: data_array})\n",
    "    \n",
    "# Plot the results\n",
    "print('AUC HO: {}'.format(ras(100*[1,0],ho)))\n",
    "print('AUC MCMC: {}'.format(ras(100*[1,0],lr)))\n",
    "print('AUC CNN: {}'.format(ras(100*[1,0],cnn)))\n",
    "fpr_ho, tpr_ho, _ = rc(100*[1,0], ho)\n",
    "fpr_mcmc, tpr_mcmc, _ = rc(100*[1,0], lr)\n",
    "fpr_cnn, tpr_cnn, _ = rc(100*[1,0], cnn)\n",
    "plt.figure(figsize=(10,10))\n",
    "plt.plot(fpr_ho, tpr_ho, label='Hotelling Observer')\n",
    "plt.plot(fpr_mcmc, tpr_mcmc, label='MCMC')\n",
    "plt.plot(fpr_cnn, tpr_cnn, label='CNN')\n",
    "plt.xlabel('False Positive Rate')\n",
    "plt.ylabel('True Positive Rate')\n",
    "plt.legend()\n",
    "plt.show()"
   ]
  }
 ],
 "metadata": {
  "kernelspec": {
   "display_name": "Python 3",
   "language": "python",
   "name": "python3"
  },
  "language_info": {
   "codemirror_mode": {
    "name": "ipython",
    "version": 3
   },
   "file_extension": ".py",
   "mimetype": "text/x-python",
   "name": "python",
   "nbconvert_exporter": "python",
   "pygments_lexer": "ipython3",
   "version": "3.7.1"
  }
 },
 "nbformat": 4,
 "nbformat_minor": 2
}
